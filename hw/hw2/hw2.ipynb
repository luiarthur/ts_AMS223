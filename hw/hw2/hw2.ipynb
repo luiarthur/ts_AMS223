{
 "cells": [
  {
   "cell_type": "markdown",
   "metadata": {},
   "source": [
    "Open in [nbviewer](http://nbviewer.jupyter.org/github/luiarthur/ts_AMS223/blob/master/hw/hw2/hw2.ipynb)\n",
    "$\n",
    "% Latex definitions\n",
    "% note: Ctrl-shfit-p for shortcuts menu\n",
    "\\newcommand{\\iid}{\\overset{iid}{\\sim}}\n",
    "\\newcommand{\\ind}{\\overset{ind}{\\sim}}\n",
    "\\newcommand{\\p}[1]{\\left(#1\\right)}\n",
    "\\newcommand{\\bk}[1]{\\left[#1\\right]}\n",
    "\\newcommand{\\bc}[1]{ \\left\\{#1\\right\\} }\n",
    "\\newcommand{\\abs}[1]{ \\left|#1\\right| }\n",
    "\\newcommand{\\norm}[1]{ \\left|\\left|#1\\right|\\right| }\n",
    "\\newcommand{\\E}{ \\text{E} }\n",
    "\\newcommand{\\N}{ \\mathcal N }\n",
    "\\newcommand{\\ds}{ \\displaystyle }\n",
    "\\newcommand{\\R}{ \\mathbb{R} }\n",
    "\\newcommand{\\suml}{ \\sum_{i=1}^n }\n",
    "\\newcommand{\\prodl}{ \\prod_{i=1}^n }\n",
    "\\newcommand{\\overunderset}[3]{\\overset{#1}{\\underset{#2}{#3}}}\n",
    "\\newcommand{\\asym}{\\overset{\\cdot}{\\sim}}\n",
    "\\newcommand{\\given}{\\bigg |}\n",
    "\\newcommand{\\M}{\\mathcal{M}}\n",
    "\\newcommand{\\Mult}{\\text{Mult}}\n",
    "\\newcommand{\\I}{\\mathbf{I}}\n",
    "\\newcommand{\\F}{\\mathbf{F}}\n",
    "\\newcommand{\\bphi}{\\mathbf{\\phi}}\n",
    "\\newcommand{\\y}{\\mathbf{y}}\n",
    "$"
   ]
  },
  {
   "cell_type": "markdown",
   "metadata": {
    "collapsed": true
   },
   "source": [
    "Due on Tu 01/31\n",
    "\n",
    "Prado & West Chapter 2, problems: 3 (a), 4, 6 (assume reciprocal roots are distinct), 7, 8, 10, 13, 17, 18, 19."
   ]
  },
  {
   "cell_type": "markdown",
   "metadata": {
    "collapsed": true
   },
   "source": [
    "# 3a)\n",
    "\n",
    "**Show that the AR(2) process is stationary for parameter values lying in the region $\\abs{\\phi_2} < 1$, $\\phi_2 < 1-\\phi_1$,  and $\\phi_2 < 1+\\phi_1$.** "
   ]
  },
  {
   "cell_type": "markdown",
   "metadata": {},
   "source": [
    "# 4 \n",
    "** Show that the eigenvalues of the matrix $\\mathbf G$ given by (2.6) correspond to the reciprocal roots of the AR($p$) characteristic polynomial.**"
   ]
  },
  {
   "cell_type": "markdown",
   "metadata": {},
   "source": [
    "# 6\n",
    "**Show that the forecast function of an AR($p$) process has the representation given in (2.7).**"
   ]
  },
  {
   "cell_type": "markdown",
   "metadata": {},
   "source": [
    "# 7\n",
    "\n",
    "**Show that if an AR(2) process has a pair of complex roots given by $r\\exp\\bc{\\pm i\\omega}$, they can be written in terms of the AR coefficients as $r=\\sqrt{-\\phi_2}$ and $\\cos(\\omega)=\\ds\\frac{\\abs{\\phi_1}}{2r}$.**\n",
    "\n",
    "Question: Complex roots => complex reciprocal roots in the characteristic equation. Also, why the absolute value in $\\abs{\\phi_1}/2r$?\n"
   ]
  },
  {
   "cell_type": "markdown",
   "metadata": {},
   "source": [
    "# 8 \n",
    "**Verify that the expressions for the conditional posterior distributions in Section 2.4.1 are correct.**\n",
    "\n",
    "Easy."
   ]
  },
  {
   "cell_type": "markdown",
   "metadata": {},
   "source": [
    "# 10\n",
    "**Verify the ACF of a MA(q) process given in (2.30).**"
   ]
  },
  {
   "cell_type": "markdown",
   "metadata": {},
   "source": [
    "# 13\n",
    "**Consider the AR(1) model given by $(1-\\phi B)(y_t-\\mu)=\\epsilon_t$, where $\\epsilon_t \\sim \\N(0,v)$.**\n",
    "- (a) Find the MLEs for $\\phi$ and $\\mu$ when $\\mu \\ne 0$. \n",
    "      - Question: for conditional likelihood?\n",
    "- (b) Assume that $v$ is known, $\\mu = 0$, and that the prior distribution for $\\phi$ is $U(0, 1)$. Find an expression for the posterior distribution of $\\phi$."
   ]
  },
  {
   "cell_type": "code",
   "execution_count": null,
   "metadata": {
    "collapsed": true
   },
   "outputs": [],
   "source": []
  }
 ],
 "metadata": {
  "kernelspec": {
   "display_name": "R",
   "language": "R",
   "name": "ir"
  },
  "language_info": {
   "codemirror_mode": "r",
   "file_extension": ".r",
   "mimetype": "text/x-r-source",
   "name": "R",
   "pygments_lexer": "r",
   "version": "3.3.2"
  }
 },
 "nbformat": 4,
 "nbformat_minor": 0
}
